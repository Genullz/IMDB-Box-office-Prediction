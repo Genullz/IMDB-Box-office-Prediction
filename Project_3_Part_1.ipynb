{
 "cells": [
  {
   "cell_type": "markdown",
   "id": "de9a69fa",
   "metadata": {},
   "source": [
    "Import Packages"
   ]
  },
  {
   "cell_type": "code",
   "execution_count": 1,
   "id": "fcfdb32f",
   "metadata": {},
   "outputs": [],
   "source": [
    "import numpy as np\n",
    "import pandas as pd\n",
    "import seaborn as sns\n",
    "import matplotlib.pyplot as plt"
   ]
  },
  {
   "cell_type": "markdown",
   "id": "0136822b",
   "metadata": {},
   "source": [
    "Load Data"
   ]
  },
  {
   "cell_type": "code",
   "execution_count": 2,
   "id": "63b58caf",
   "metadata": {},
   "outputs": [],
   "source": [
    "basics_url=\"https://datasets.imdbws.com/title.basics.tsv.gz\"\n",
    "title_basics = pd.read_csv(basics_url, sep='\\t', low_memory=False)"
   ]
  },
  {
   "cell_type": "code",
   "execution_count": 3,
   "id": "138f31dc",
   "metadata": {},
   "outputs": [],
   "source": [
    "basics_url2=\"https://datasets.imdbws.com/title.akas.tsv.gz\"\n",
    "title_akas = pd.read_csv(basics_url2, sep='\\t', low_memory=False)"
   ]
  },
  {
   "cell_type": "code",
   "execution_count": 39,
   "id": "0e86e175",
   "metadata": {},
   "outputs": [
    {
     "data": {
      "text/plain": [
       "34803      False\n",
       "61116      False\n",
       "67669      False\n",
       "77964      False\n",
       "86801      False\n",
       "           ...  \n",
       "9608227    False\n",
       "9608236    False\n",
       "9608275    False\n",
       "9608320    False\n",
       "9608404    False\n",
       "Name: tconst, Length: 166984, dtype: bool"
      ]
     },
     "execution_count": 39,
     "metadata": {},
     "output_type": "execute_result"
    }
   ],
   "source": [
    "# Filter the akas table down to only include the US by using the filter akas dataframe\n",
    "us_movies =title_basics['tconst'].isin(title_akas['titleId'])\n",
    "us_movies"
   ]
  },
  {
   "cell_type": "markdown",
   "id": "4f5320dc",
   "metadata": {
    "heading_collapsed": true
   },
   "source": [
    "# Title Akas"
   ]
  },
  {
   "cell_type": "markdown",
   "id": "8cc4203a",
   "metadata": {
    "hidden": true
   },
   "source": [
    "Explore Dataset"
   ]
  },
  {
   "cell_type": "code",
   "execution_count": 5,
   "id": "5b3058f3",
   "metadata": {
    "hidden": true
   },
   "outputs": [
    {
     "name": "stdout",
     "output_type": "stream",
     "text": [
      "<class 'pandas.core.frame.DataFrame'>\n",
      "RangeIndex: 34908257 entries, 0 to 34908256\n",
      "Data columns (total 8 columns):\n",
      " #   Column           Dtype \n",
      "---  ------           ----- \n",
      " 0   titleId          object\n",
      " 1   ordering         int64 \n",
      " 2   title            object\n",
      " 3   region           object\n",
      " 4   language         object\n",
      " 5   types            object\n",
      " 6   attributes       object\n",
      " 7   isOriginalTitle  object\n",
      "dtypes: int64(1), object(7)\n",
      "memory usage: 2.1+ GB\n"
     ]
    }
   ],
   "source": [
    "title_akas.info()"
   ]
  },
  {
   "cell_type": "code",
   "execution_count": 6,
   "id": "46a4f768",
   "metadata": {
    "hidden": true
   },
   "outputs": [
    {
     "data": {
      "text/html": [
       "<div>\n",
       "<style scoped>\n",
       "    .dataframe tbody tr th:only-of-type {\n",
       "        vertical-align: middle;\n",
       "    }\n",
       "\n",
       "    .dataframe tbody tr th {\n",
       "        vertical-align: top;\n",
       "    }\n",
       "\n",
       "    .dataframe thead th {\n",
       "        text-align: right;\n",
       "    }\n",
       "</style>\n",
       "<table border=\"1\" class=\"dataframe\">\n",
       "  <thead>\n",
       "    <tr style=\"text-align: right;\">\n",
       "      <th></th>\n",
       "      <th>titleId</th>\n",
       "      <th>ordering</th>\n",
       "      <th>title</th>\n",
       "      <th>region</th>\n",
       "      <th>language</th>\n",
       "      <th>types</th>\n",
       "      <th>attributes</th>\n",
       "      <th>isOriginalTitle</th>\n",
       "    </tr>\n",
       "  </thead>\n",
       "  <tbody>\n",
       "    <tr>\n",
       "      <th>0</th>\n",
       "      <td>tt0000001</td>\n",
       "      <td>1</td>\n",
       "      <td>Карменсіта</td>\n",
       "      <td>UA</td>\n",
       "      <td>\\N</td>\n",
       "      <td>imdbDisplay</td>\n",
       "      <td>\\N</td>\n",
       "      <td>0</td>\n",
       "    </tr>\n",
       "    <tr>\n",
       "      <th>1</th>\n",
       "      <td>tt0000001</td>\n",
       "      <td>2</td>\n",
       "      <td>Carmencita</td>\n",
       "      <td>DE</td>\n",
       "      <td>\\N</td>\n",
       "      <td>\\N</td>\n",
       "      <td>literal title</td>\n",
       "      <td>0</td>\n",
       "    </tr>\n",
       "    <tr>\n",
       "      <th>2</th>\n",
       "      <td>tt0000001</td>\n",
       "      <td>3</td>\n",
       "      <td>Carmencita - spanyol tánc</td>\n",
       "      <td>HU</td>\n",
       "      <td>\\N</td>\n",
       "      <td>imdbDisplay</td>\n",
       "      <td>\\N</td>\n",
       "      <td>0</td>\n",
       "    </tr>\n",
       "    <tr>\n",
       "      <th>3</th>\n",
       "      <td>tt0000001</td>\n",
       "      <td>4</td>\n",
       "      <td>Καρμενσίτα</td>\n",
       "      <td>GR</td>\n",
       "      <td>\\N</td>\n",
       "      <td>imdbDisplay</td>\n",
       "      <td>\\N</td>\n",
       "      <td>0</td>\n",
       "    </tr>\n",
       "    <tr>\n",
       "      <th>4</th>\n",
       "      <td>tt0000001</td>\n",
       "      <td>5</td>\n",
       "      <td>Карменсита</td>\n",
       "      <td>RU</td>\n",
       "      <td>\\N</td>\n",
       "      <td>imdbDisplay</td>\n",
       "      <td>\\N</td>\n",
       "      <td>0</td>\n",
       "    </tr>\n",
       "  </tbody>\n",
       "</table>\n",
       "</div>"
      ],
      "text/plain": [
       "     titleId  ordering                      title region language  \\\n",
       "0  tt0000001         1                 Карменсіта     UA       \\N   \n",
       "1  tt0000001         2                 Carmencita     DE       \\N   \n",
       "2  tt0000001         3  Carmencita - spanyol tánc     HU       \\N   \n",
       "3  tt0000001         4                 Καρμενσίτα     GR       \\N   \n",
       "4  tt0000001         5                 Карменсита     RU       \\N   \n",
       "\n",
       "         types     attributes isOriginalTitle  \n",
       "0  imdbDisplay             \\N               0  \n",
       "1           \\N  literal title               0  \n",
       "2  imdbDisplay             \\N               0  \n",
       "3  imdbDisplay             \\N               0  \n",
       "4  imdbDisplay             \\N               0  "
      ]
     },
     "execution_count": 6,
     "metadata": {},
     "output_type": "execute_result"
    }
   ],
   "source": [
    "title_akas.head()"
   ]
  },
  {
   "cell_type": "code",
   "execution_count": 7,
   "id": "30751d56",
   "metadata": {
    "hidden": true
   },
   "outputs": [
    {
     "data": {
      "text/html": [
       "<div>\n",
       "<style scoped>\n",
       "    .dataframe tbody tr th:only-of-type {\n",
       "        vertical-align: middle;\n",
       "    }\n",
       "\n",
       "    .dataframe tbody tr th {\n",
       "        vertical-align: top;\n",
       "    }\n",
       "\n",
       "    .dataframe thead th {\n",
       "        text-align: right;\n",
       "    }\n",
       "</style>\n",
       "<table border=\"1\" class=\"dataframe\">\n",
       "  <thead>\n",
       "    <tr style=\"text-align: right;\">\n",
       "      <th></th>\n",
       "      <th>titleId</th>\n",
       "      <th>ordering</th>\n",
       "      <th>title</th>\n",
       "      <th>region</th>\n",
       "      <th>language</th>\n",
       "      <th>types</th>\n",
       "      <th>attributes</th>\n",
       "      <th>isOriginalTitle</th>\n",
       "    </tr>\n",
       "  </thead>\n",
       "  <tbody>\n",
       "    <tr>\n",
       "      <th>0</th>\n",
       "      <td>tt0000001</td>\n",
       "      <td>1</td>\n",
       "      <td>Карменсіта</td>\n",
       "      <td>UA</td>\n",
       "      <td>NaN</td>\n",
       "      <td>imdbDisplay</td>\n",
       "      <td>NaN</td>\n",
       "      <td>0</td>\n",
       "    </tr>\n",
       "    <tr>\n",
       "      <th>1</th>\n",
       "      <td>tt0000001</td>\n",
       "      <td>2</td>\n",
       "      <td>Carmencita</td>\n",
       "      <td>DE</td>\n",
       "      <td>NaN</td>\n",
       "      <td>NaN</td>\n",
       "      <td>literal title</td>\n",
       "      <td>0</td>\n",
       "    </tr>\n",
       "    <tr>\n",
       "      <th>2</th>\n",
       "      <td>tt0000001</td>\n",
       "      <td>3</td>\n",
       "      <td>Carmencita - spanyol tánc</td>\n",
       "      <td>HU</td>\n",
       "      <td>NaN</td>\n",
       "      <td>imdbDisplay</td>\n",
       "      <td>NaN</td>\n",
       "      <td>0</td>\n",
       "    </tr>\n",
       "    <tr>\n",
       "      <th>3</th>\n",
       "      <td>tt0000001</td>\n",
       "      <td>4</td>\n",
       "      <td>Καρμενσίτα</td>\n",
       "      <td>GR</td>\n",
       "      <td>NaN</td>\n",
       "      <td>imdbDisplay</td>\n",
       "      <td>NaN</td>\n",
       "      <td>0</td>\n",
       "    </tr>\n",
       "    <tr>\n",
       "      <th>4</th>\n",
       "      <td>tt0000001</td>\n",
       "      <td>5</td>\n",
       "      <td>Карменсита</td>\n",
       "      <td>RU</td>\n",
       "      <td>NaN</td>\n",
       "      <td>imdbDisplay</td>\n",
       "      <td>NaN</td>\n",
       "      <td>0</td>\n",
       "    </tr>\n",
       "    <tr>\n",
       "      <th>...</th>\n",
       "      <td>...</td>\n",
       "      <td>...</td>\n",
       "      <td>...</td>\n",
       "      <td>...</td>\n",
       "      <td>...</td>\n",
       "      <td>...</td>\n",
       "      <td>...</td>\n",
       "      <td>...</td>\n",
       "    </tr>\n",
       "    <tr>\n",
       "      <th>34908252</th>\n",
       "      <td>tt9916852</td>\n",
       "      <td>5</td>\n",
       "      <td>Episódio #3.20</td>\n",
       "      <td>PT</td>\n",
       "      <td>pt</td>\n",
       "      <td>NaN</td>\n",
       "      <td>NaN</td>\n",
       "      <td>0</td>\n",
       "    </tr>\n",
       "    <tr>\n",
       "      <th>34908253</th>\n",
       "      <td>tt9916852</td>\n",
       "      <td>6</td>\n",
       "      <td>Episodio #3.20</td>\n",
       "      <td>IT</td>\n",
       "      <td>it</td>\n",
       "      <td>NaN</td>\n",
       "      <td>NaN</td>\n",
       "      <td>0</td>\n",
       "    </tr>\n",
       "    <tr>\n",
       "      <th>34908254</th>\n",
       "      <td>tt9916852</td>\n",
       "      <td>7</td>\n",
       "      <td>एपिसोड #3.20</td>\n",
       "      <td>IN</td>\n",
       "      <td>hi</td>\n",
       "      <td>NaN</td>\n",
       "      <td>NaN</td>\n",
       "      <td>0</td>\n",
       "    </tr>\n",
       "    <tr>\n",
       "      <th>34908255</th>\n",
       "      <td>tt9916856</td>\n",
       "      <td>1</td>\n",
       "      <td>The Wind</td>\n",
       "      <td>DE</td>\n",
       "      <td>NaN</td>\n",
       "      <td>imdbDisplay</td>\n",
       "      <td>NaN</td>\n",
       "      <td>0</td>\n",
       "    </tr>\n",
       "    <tr>\n",
       "      <th>34908256</th>\n",
       "      <td>tt9916856</td>\n",
       "      <td>2</td>\n",
       "      <td>The Wind</td>\n",
       "      <td>NaN</td>\n",
       "      <td>NaN</td>\n",
       "      <td>original</td>\n",
       "      <td>NaN</td>\n",
       "      <td>1</td>\n",
       "    </tr>\n",
       "  </tbody>\n",
       "</table>\n",
       "<p>34908257 rows × 8 columns</p>\n",
       "</div>"
      ],
      "text/plain": [
       "            titleId  ordering                      title region language  \\\n",
       "0         tt0000001         1                 Карменсіта     UA      NaN   \n",
       "1         tt0000001         2                 Carmencita     DE      NaN   \n",
       "2         tt0000001         3  Carmencita - spanyol tánc     HU      NaN   \n",
       "3         tt0000001         4                 Καρμενσίτα     GR      NaN   \n",
       "4         tt0000001         5                 Карменсита     RU      NaN   \n",
       "...             ...       ...                        ...    ...      ...   \n",
       "34908252  tt9916852         5             Episódio #3.20     PT       pt   \n",
       "34908253  tt9916852         6             Episodio #3.20     IT       it   \n",
       "34908254  tt9916852         7               एपिसोड #3.20     IN       hi   \n",
       "34908255  tt9916856         1                   The Wind     DE      NaN   \n",
       "34908256  tt9916856         2                   The Wind    NaN      NaN   \n",
       "\n",
       "                types     attributes isOriginalTitle  \n",
       "0         imdbDisplay            NaN               0  \n",
       "1                 NaN  literal title               0  \n",
       "2         imdbDisplay            NaN               0  \n",
       "3         imdbDisplay            NaN               0  \n",
       "4         imdbDisplay            NaN               0  \n",
       "...               ...            ...             ...  \n",
       "34908252          NaN            NaN               0  \n",
       "34908253          NaN            NaN               0  \n",
       "34908254          NaN            NaN               0  \n",
       "34908255  imdbDisplay            NaN               0  \n",
       "34908256     original            NaN               1  \n",
       "\n",
       "[34908257 rows x 8 columns]"
      ]
     },
     "execution_count": 7,
     "metadata": {},
     "output_type": "execute_result"
    }
   ],
   "source": [
    "title_akas.replace({'\\\\N':np.nan}, inplace=True)\n",
    "title_akas"
   ]
  },
  {
   "cell_type": "markdown",
   "id": "7aad55b8",
   "metadata": {
    "hidden": true
   },
   "source": [
    "Eliminate Missing Values"
   ]
  },
  {
   "cell_type": "code",
   "execution_count": 8,
   "id": "033ec258",
   "metadata": {
    "hidden": true
   },
   "outputs": [
    {
     "data": {
      "text/plain": [
       "titleId                   0\n",
       "ordering                  0\n",
       "title                     5\n",
       "region              1880307\n",
       "language            6500924\n",
       "types              29438903\n",
       "attributes         34653799\n",
       "isOriginalTitle        2109\n",
       "dtype: int64"
      ]
     },
     "execution_count": 8,
     "metadata": {},
     "output_type": "execute_result"
    }
   ],
   "source": [
    "title_akas.isna().sum()"
   ]
  },
  {
   "cell_type": "code",
   "execution_count": 9,
   "id": "db4f6bfd",
   "metadata": {
    "hidden": true
   },
   "outputs": [
    {
     "data": {
      "text/plain": [
       "titleId            0\n",
       "ordering           0\n",
       "title              0\n",
       "region             0\n",
       "language           0\n",
       "types              0\n",
       "attributes         0\n",
       "isOriginalTitle    0\n",
       "dtype: int64"
      ]
     },
     "execution_count": 9,
     "metadata": {},
     "output_type": "execute_result"
    }
   ],
   "source": [
    "title_akas.dropna(subset=['region'], inplace=True)\n",
    "title_akas.dropna(subset=['language'], inplace=True)\n",
    "title_akas.dropna(subset=['types'], inplace=True)\n",
    "title_akas.dropna(subset=['attributes'], inplace=True)\n",
    "title_akas.dropna(subset=['isOriginalTitle'], inplace=True)\n",
    "title_akas.dropna(subset=['title'], inplace=True)\n",
    "title_akas.isna().sum()"
   ]
  },
  {
   "cell_type": "markdown",
   "id": "489f5424",
   "metadata": {
    "hidden": true
   },
   "source": [
    "Keep only US movies"
   ]
  },
  {
   "cell_type": "code",
   "execution_count": 10,
   "id": "8da73cdf",
   "metadata": {
    "hidden": true
   },
   "outputs": [
    {
     "data": {
      "text/plain": [
       "0          False\n",
       "1          False\n",
       "2          False\n",
       "3          False\n",
       "4          False\n",
       "           ...  \n",
       "9608549    False\n",
       "9608550    False\n",
       "9608551    False\n",
       "9608552    False\n",
       "9608553    False\n",
       "Name: tconst, Length: 9608554, dtype: bool"
      ]
     },
     "execution_count": 10,
     "metadata": {},
     "output_type": "execute_result"
    }
   ],
   "source": [
    "us_movies =title_basics['tconst'].isin(title_akas['titleId'])\n",
    "us_movies"
   ]
  },
  {
   "cell_type": "code",
   "execution_count": 11,
   "id": "e10e205d",
   "metadata": {
    "hidden": true
   },
   "outputs": [
    {
     "data": {
      "text/html": [
       "<div>\n",
       "<style scoped>\n",
       "    .dataframe tbody tr th:only-of-type {\n",
       "        vertical-align: middle;\n",
       "    }\n",
       "\n",
       "    .dataframe tbody tr th {\n",
       "        vertical-align: top;\n",
       "    }\n",
       "\n",
       "    .dataframe thead th {\n",
       "        text-align: right;\n",
       "    }\n",
       "</style>\n",
       "<table border=\"1\" class=\"dataframe\">\n",
       "  <thead>\n",
       "    <tr style=\"text-align: right;\">\n",
       "      <th></th>\n",
       "      <th>titleId</th>\n",
       "      <th>ordering</th>\n",
       "      <th>title</th>\n",
       "      <th>region</th>\n",
       "      <th>language</th>\n",
       "      <th>types</th>\n",
       "      <th>attributes</th>\n",
       "      <th>isOriginalTitle</th>\n",
       "    </tr>\n",
       "  </thead>\n",
       "  <tbody>\n",
       "    <tr>\n",
       "      <th>102215</th>\n",
       "      <td>tt0022542</td>\n",
       "      <td>1</td>\n",
       "      <td>Di shtime fun Yisroel</td>\n",
       "      <td>US</td>\n",
       "      <td>yi</td>\n",
       "      <td>alternative</td>\n",
       "      <td>YIVO translation</td>\n",
       "      <td>0</td>\n",
       "    </tr>\n",
       "    <tr>\n",
       "      <th>114360</th>\n",
       "      <td>tt0024265</td>\n",
       "      <td>4</td>\n",
       "      <td>Geleb un gelakht</td>\n",
       "      <td>US</td>\n",
       "      <td>yi</td>\n",
       "      <td>alternative</td>\n",
       "      <td>modern translation</td>\n",
       "      <td>0</td>\n",
       "    </tr>\n",
       "    <tr>\n",
       "      <th>117786</th>\n",
       "      <td>tt0024751</td>\n",
       "      <td>9</td>\n",
       "      <td>Avram Ovenu</td>\n",
       "      <td>US</td>\n",
       "      <td>yi</td>\n",
       "      <td>alternative</td>\n",
       "      <td>YIVO translation</td>\n",
       "      <td>0</td>\n",
       "    </tr>\n",
       "    <tr>\n",
       "      <th>126564</th>\n",
       "      <td>tt0026010</td>\n",
       "      <td>3</td>\n",
       "      <td>Der yidishe Kenigen Lir</td>\n",
       "      <td>US</td>\n",
       "      <td>yi</td>\n",
       "      <td>alternative</td>\n",
       "      <td>YIVO translation</td>\n",
       "      <td>0</td>\n",
       "    </tr>\n",
       "    <tr>\n",
       "      <th>140283</th>\n",
       "      <td>tt0027911</td>\n",
       "      <td>1</td>\n",
       "      <td>Libe un Laydnshaft</td>\n",
       "      <td>US</td>\n",
       "      <td>yi</td>\n",
       "      <td>alternative</td>\n",
       "      <td>modern translation</td>\n",
       "      <td>0</td>\n",
       "    </tr>\n",
       "    <tr>\n",
       "      <th>...</th>\n",
       "      <td>...</td>\n",
       "      <td>...</td>\n",
       "      <td>...</td>\n",
       "      <td>...</td>\n",
       "      <td>...</td>\n",
       "      <td>...</td>\n",
       "      <td>...</td>\n",
       "      <td>...</td>\n",
       "    </tr>\n",
       "    <tr>\n",
       "      <th>33221945</th>\n",
       "      <td>tt9015974</td>\n",
       "      <td>1</td>\n",
       "      <td>aşk Üzerine Kısa Bir Film</td>\n",
       "      <td>TR</td>\n",
       "      <td>tr</td>\n",
       "      <td>imdbDisplay</td>\n",
       "      <td>poster title</td>\n",
       "      <td>0</td>\n",
       "    </tr>\n",
       "    <tr>\n",
       "      <th>33627846</th>\n",
       "      <td>tt9248018</td>\n",
       "      <td>3</td>\n",
       "      <td>ODTÜ Tarihi: Bozkırı Yeşertenler ve Zor Yıllar...</td>\n",
       "      <td>TR</td>\n",
       "      <td>tr</td>\n",
       "      <td>imdbDisplay</td>\n",
       "      <td>poster title</td>\n",
       "      <td>0</td>\n",
       "    </tr>\n",
       "    <tr>\n",
       "      <th>33776262</th>\n",
       "      <td>tt9322538</td>\n",
       "      <td>1</td>\n",
       "      <td>Aşka Zaman</td>\n",
       "      <td>TR</td>\n",
       "      <td>tr</td>\n",
       "      <td>imdbDisplay</td>\n",
       "      <td>original script title</td>\n",
       "      <td>0</td>\n",
       "    </tr>\n",
       "    <tr>\n",
       "      <th>33937151</th>\n",
       "      <td>tt9406716</td>\n",
       "      <td>1</td>\n",
       "      <td>45. Pantene Altın Kelebek Ödül Töreni</td>\n",
       "      <td>TR</td>\n",
       "      <td>tr</td>\n",
       "      <td>imdbDisplay</td>\n",
       "      <td>new title</td>\n",
       "      <td>0</td>\n",
       "    </tr>\n",
       "    <tr>\n",
       "      <th>34428928</th>\n",
       "      <td>tt9667744</td>\n",
       "      <td>4</td>\n",
       "      <td>Masal çiçeği</td>\n",
       "      <td>TR</td>\n",
       "      <td>tr</td>\n",
       "      <td>imdbDisplay</td>\n",
       "      <td>pre-release title</td>\n",
       "      <td>0</td>\n",
       "    </tr>\n",
       "  </tbody>\n",
       "</table>\n",
       "<p>447 rows × 8 columns</p>\n",
       "</div>"
      ],
      "text/plain": [
       "            titleId  ordering  \\\n",
       "102215    tt0022542         1   \n",
       "114360    tt0024265         4   \n",
       "117786    tt0024751         9   \n",
       "126564    tt0026010         3   \n",
       "140283    tt0027911         1   \n",
       "...             ...       ...   \n",
       "33221945  tt9015974         1   \n",
       "33627846  tt9248018         3   \n",
       "33776262  tt9322538         1   \n",
       "33937151  tt9406716         1   \n",
       "34428928  tt9667744         4   \n",
       "\n",
       "                                                      title region language  \\\n",
       "102215                                Di shtime fun Yisroel     US       yi   \n",
       "114360                                     Geleb un gelakht     US       yi   \n",
       "117786                                          Avram Ovenu     US       yi   \n",
       "126564                              Der yidishe Kenigen Lir     US       yi   \n",
       "140283                                   Libe un Laydnshaft     US       yi   \n",
       "...                                                     ...    ...      ...   \n",
       "33221945                          aşk Üzerine Kısa Bir Film     TR       tr   \n",
       "33627846  ODTÜ Tarihi: Bozkırı Yeşertenler ve Zor Yıllar...     TR       tr   \n",
       "33776262                                         Aşka Zaman     TR       tr   \n",
       "33937151              45. Pantene Altın Kelebek Ödül Töreni     TR       tr   \n",
       "34428928                                       Masal çiçeği     TR       tr   \n",
       "\n",
       "                types             attributes isOriginalTitle  \n",
       "102215    alternative       YIVO translation               0  \n",
       "114360    alternative     modern translation               0  \n",
       "117786    alternative       YIVO translation               0  \n",
       "126564    alternative       YIVO translation               0  \n",
       "140283    alternative     modern translation               0  \n",
       "...               ...                    ...             ...  \n",
       "33221945  imdbDisplay           poster title               0  \n",
       "33627846  imdbDisplay           poster title               0  \n",
       "33776262  imdbDisplay  original script title               0  \n",
       "33937151  imdbDisplay              new title               0  \n",
       "34428928  imdbDisplay      pre-release title               0  \n",
       "\n",
       "[447 rows x 8 columns]"
      ]
     },
     "execution_count": 11,
     "metadata": {},
     "output_type": "execute_result"
    }
   ],
   "source": [
    "title_akas"
   ]
  },
  {
   "cell_type": "code",
   "execution_count": 12,
   "id": "260d96ea",
   "metadata": {
    "hidden": true
   },
   "outputs": [
    {
     "name": "stdout",
     "output_type": "stream",
     "text": [
      "<class 'pandas.core.frame.DataFrame'>\n",
      "Int64Index: 447 entries, 102215 to 34428928\n",
      "Data columns (total 8 columns):\n",
      " #   Column           Non-Null Count  Dtype \n",
      "---  ------           --------------  ----- \n",
      " 0   titleId          447 non-null    object\n",
      " 1   ordering         447 non-null    int64 \n",
      " 2   title            447 non-null    object\n",
      " 3   region           447 non-null    object\n",
      " 4   language         447 non-null    object\n",
      " 5   types            447 non-null    object\n",
      " 6   attributes       447 non-null    object\n",
      " 7   isOriginalTitle  447 non-null    object\n",
      "dtypes: int64(1), object(7)\n",
      "memory usage: 31.4+ KB\n"
     ]
    }
   ],
   "source": [
    "title_akas.info()"
   ]
  },
  {
   "cell_type": "code",
   "execution_count": 13,
   "id": "cfee5caa",
   "metadata": {
    "hidden": true
   },
   "outputs": [],
   "source": [
    "## Save current dataframe to file.\n",
    "title_akas.to_csv(\"title_akas.csv.gz\",compression='gzip',index=False)"
   ]
  },
  {
   "cell_type": "code",
   "execution_count": 14,
   "id": "54d2a55f",
   "metadata": {
    "hidden": true
   },
   "outputs": [
    {
     "data": {
      "text/html": [
       "<div>\n",
       "<style scoped>\n",
       "    .dataframe tbody tr th:only-of-type {\n",
       "        vertical-align: middle;\n",
       "    }\n",
       "\n",
       "    .dataframe tbody tr th {\n",
       "        vertical-align: top;\n",
       "    }\n",
       "\n",
       "    .dataframe thead th {\n",
       "        text-align: right;\n",
       "    }\n",
       "</style>\n",
       "<table border=\"1\" class=\"dataframe\">\n",
       "  <thead>\n",
       "    <tr style=\"text-align: right;\">\n",
       "      <th></th>\n",
       "      <th>titleId</th>\n",
       "      <th>ordering</th>\n",
       "      <th>title</th>\n",
       "      <th>region</th>\n",
       "      <th>language</th>\n",
       "      <th>types</th>\n",
       "      <th>attributes</th>\n",
       "      <th>isOriginalTitle</th>\n",
       "    </tr>\n",
       "  </thead>\n",
       "  <tbody>\n",
       "    <tr>\n",
       "      <th>0</th>\n",
       "      <td>tt0022542</td>\n",
       "      <td>1</td>\n",
       "      <td>Di shtime fun Yisroel</td>\n",
       "      <td>US</td>\n",
       "      <td>yi</td>\n",
       "      <td>alternative</td>\n",
       "      <td>YIVO translation</td>\n",
       "      <td>0</td>\n",
       "    </tr>\n",
       "    <tr>\n",
       "      <th>1</th>\n",
       "      <td>tt0024265</td>\n",
       "      <td>4</td>\n",
       "      <td>Geleb un gelakht</td>\n",
       "      <td>US</td>\n",
       "      <td>yi</td>\n",
       "      <td>alternative</td>\n",
       "      <td>modern translation</td>\n",
       "      <td>0</td>\n",
       "    </tr>\n",
       "    <tr>\n",
       "      <th>2</th>\n",
       "      <td>tt0024751</td>\n",
       "      <td>9</td>\n",
       "      <td>Avram Ovenu</td>\n",
       "      <td>US</td>\n",
       "      <td>yi</td>\n",
       "      <td>alternative</td>\n",
       "      <td>YIVO translation</td>\n",
       "      <td>0</td>\n",
       "    </tr>\n",
       "    <tr>\n",
       "      <th>3</th>\n",
       "      <td>tt0026010</td>\n",
       "      <td>3</td>\n",
       "      <td>Der yidishe Kenigen Lir</td>\n",
       "      <td>US</td>\n",
       "      <td>yi</td>\n",
       "      <td>alternative</td>\n",
       "      <td>YIVO translation</td>\n",
       "      <td>0</td>\n",
       "    </tr>\n",
       "    <tr>\n",
       "      <th>4</th>\n",
       "      <td>tt0027911</td>\n",
       "      <td>1</td>\n",
       "      <td>Libe un Laydnshaft</td>\n",
       "      <td>US</td>\n",
       "      <td>yi</td>\n",
       "      <td>alternative</td>\n",
       "      <td>modern translation</td>\n",
       "      <td>0</td>\n",
       "    </tr>\n",
       "  </tbody>\n",
       "</table>\n",
       "</div>"
      ],
      "text/plain": [
       "     titleId  ordering                    title region language        types  \\\n",
       "0  tt0022542         1    Di shtime fun Yisroel     US       yi  alternative   \n",
       "1  tt0024265         4         Geleb un gelakht     US       yi  alternative   \n",
       "2  tt0024751         9              Avram Ovenu     US       yi  alternative   \n",
       "3  tt0026010         3  Der yidishe Kenigen Lir     US       yi  alternative   \n",
       "4  tt0027911         1       Libe un Laydnshaft     US       yi  alternative   \n",
       "\n",
       "           attributes  isOriginalTitle  \n",
       "0    YIVO translation                0  \n",
       "1  modern translation                0  \n",
       "2    YIVO translation                0  \n",
       "3    YIVO translation                0  \n",
       "4  modern translation                0  "
      ]
     },
     "execution_count": 14,
     "metadata": {},
     "output_type": "execute_result"
    }
   ],
   "source": [
    "title_akas = pd.read_csv(\"title_akas.csv.gz\", low_memory = False)\n",
    "title_akas.head()"
   ]
  },
  {
   "cell_type": "markdown",
   "id": "0657b6e6",
   "metadata": {
    "heading_collapsed": true
   },
   "source": [
    "# Title Basics"
   ]
  },
  {
   "cell_type": "code",
   "execution_count": 15,
   "id": "f152ff7e",
   "metadata": {
    "hidden": true
   },
   "outputs": [
    {
     "data": {
      "text/html": [
       "<div>\n",
       "<style scoped>\n",
       "    .dataframe tbody tr th:only-of-type {\n",
       "        vertical-align: middle;\n",
       "    }\n",
       "\n",
       "    .dataframe tbody tr th {\n",
       "        vertical-align: top;\n",
       "    }\n",
       "\n",
       "    .dataframe thead th {\n",
       "        text-align: right;\n",
       "    }\n",
       "</style>\n",
       "<table border=\"1\" class=\"dataframe\">\n",
       "  <thead>\n",
       "    <tr style=\"text-align: right;\">\n",
       "      <th></th>\n",
       "      <th>tconst</th>\n",
       "      <th>titleType</th>\n",
       "      <th>primaryTitle</th>\n",
       "      <th>originalTitle</th>\n",
       "      <th>isAdult</th>\n",
       "      <th>startYear</th>\n",
       "      <th>endYear</th>\n",
       "      <th>runtimeMinutes</th>\n",
       "      <th>genres</th>\n",
       "    </tr>\n",
       "  </thead>\n",
       "  <tbody>\n",
       "    <tr>\n",
       "      <th>0</th>\n",
       "      <td>tt0000001</td>\n",
       "      <td>short</td>\n",
       "      <td>Carmencita</td>\n",
       "      <td>Carmencita</td>\n",
       "      <td>0</td>\n",
       "      <td>1894</td>\n",
       "      <td>\\N</td>\n",
       "      <td>1</td>\n",
       "      <td>Documentary,Short</td>\n",
       "    </tr>\n",
       "    <tr>\n",
       "      <th>1</th>\n",
       "      <td>tt0000002</td>\n",
       "      <td>short</td>\n",
       "      <td>Le clown et ses chiens</td>\n",
       "      <td>Le clown et ses chiens</td>\n",
       "      <td>0</td>\n",
       "      <td>1892</td>\n",
       "      <td>\\N</td>\n",
       "      <td>5</td>\n",
       "      <td>Animation,Short</td>\n",
       "    </tr>\n",
       "    <tr>\n",
       "      <th>2</th>\n",
       "      <td>tt0000003</td>\n",
       "      <td>short</td>\n",
       "      <td>Pauvre Pierrot</td>\n",
       "      <td>Pauvre Pierrot</td>\n",
       "      <td>0</td>\n",
       "      <td>1892</td>\n",
       "      <td>\\N</td>\n",
       "      <td>4</td>\n",
       "      <td>Animation,Comedy,Romance</td>\n",
       "    </tr>\n",
       "    <tr>\n",
       "      <th>3</th>\n",
       "      <td>tt0000004</td>\n",
       "      <td>short</td>\n",
       "      <td>Un bon bock</td>\n",
       "      <td>Un bon bock</td>\n",
       "      <td>0</td>\n",
       "      <td>1892</td>\n",
       "      <td>\\N</td>\n",
       "      <td>12</td>\n",
       "      <td>Animation,Short</td>\n",
       "    </tr>\n",
       "    <tr>\n",
       "      <th>4</th>\n",
       "      <td>tt0000005</td>\n",
       "      <td>short</td>\n",
       "      <td>Blacksmith Scene</td>\n",
       "      <td>Blacksmith Scene</td>\n",
       "      <td>0</td>\n",
       "      <td>1893</td>\n",
       "      <td>\\N</td>\n",
       "      <td>1</td>\n",
       "      <td>Comedy,Short</td>\n",
       "    </tr>\n",
       "  </tbody>\n",
       "</table>\n",
       "</div>"
      ],
      "text/plain": [
       "      tconst titleType            primaryTitle           originalTitle  \\\n",
       "0  tt0000001     short              Carmencita              Carmencita   \n",
       "1  tt0000002     short  Le clown et ses chiens  Le clown et ses chiens   \n",
       "2  tt0000003     short          Pauvre Pierrot          Pauvre Pierrot   \n",
       "3  tt0000004     short             Un bon bock             Un bon bock   \n",
       "4  tt0000005     short        Blacksmith Scene        Blacksmith Scene   \n",
       "\n",
       "  isAdult startYear endYear runtimeMinutes                    genres  \n",
       "0       0      1894      \\N              1         Documentary,Short  \n",
       "1       0      1892      \\N              5           Animation,Short  \n",
       "2       0      1892      \\N              4  Animation,Comedy,Romance  \n",
       "3       0      1892      \\N             12           Animation,Short  \n",
       "4       0      1893      \\N              1              Comedy,Short  "
      ]
     },
     "execution_count": 15,
     "metadata": {},
     "output_type": "execute_result"
    }
   ],
   "source": [
    "title_basics.head()"
   ]
  },
  {
   "cell_type": "code",
   "execution_count": 16,
   "id": "902fab57",
   "metadata": {
    "hidden": true
   },
   "outputs": [
    {
     "data": {
      "text/plain": [
       "0"
      ]
     },
     "execution_count": 16,
     "metadata": {},
     "output_type": "execute_result"
    }
   ],
   "source": [
    "title_basics.duplicated().sum()"
   ]
  },
  {
   "cell_type": "code",
   "execution_count": 17,
   "id": "e91c324c",
   "metadata": {
    "hidden": true
   },
   "outputs": [
    {
     "data": {
      "text/plain": [
       "tconst             0\n",
       "titleType          0\n",
       "primaryTitle      11\n",
       "originalTitle     11\n",
       "isAdult            0\n",
       "startYear          0\n",
       "endYear            0\n",
       "runtimeMinutes     0\n",
       "genres            10\n",
       "dtype: int64"
      ]
     },
     "execution_count": 17,
     "metadata": {},
     "output_type": "execute_result"
    }
   ],
   "source": [
    "title_basics.isna().sum()"
   ]
  },
  {
   "cell_type": "code",
   "execution_count": 18,
   "id": "04b8587f",
   "metadata": {
    "hidden": true
   },
   "outputs": [
    {
     "data": {
      "text/plain": [
       "tconst            0\n",
       "titleType         0\n",
       "primaryTitle      0\n",
       "originalTitle     0\n",
       "isAdult           0\n",
       "startYear         0\n",
       "endYear           0\n",
       "runtimeMinutes    0\n",
       "genres            0\n",
       "dtype: int64"
      ]
     },
     "execution_count": 18,
     "metadata": {},
     "output_type": "execute_result"
    }
   ],
   "source": [
    "title_basics.dropna(subset=['primaryTitle', 'originalTitle', 'genres'], inplace=True)\n",
    "title_basics.isna().sum()"
   ]
  },
  {
   "cell_type": "markdown",
   "id": "bdb5ba71",
   "metadata": {
    "hidden": true
   },
   "source": [
    "Replace \"\\N\" with np.nan"
   ]
  },
  {
   "cell_type": "code",
   "execution_count": 19,
   "id": "8a19d192",
   "metadata": {
    "hidden": true
   },
   "outputs": [],
   "source": [
    "title_basics.replace({'\\\\N':np.nan},inplace=True)"
   ]
  },
  {
   "cell_type": "code",
   "execution_count": 20,
   "id": "e01a3820",
   "metadata": {
    "hidden": true
   },
   "outputs": [
    {
     "data": {
      "text/plain": [
       "tconst                  0\n",
       "titleType               0\n",
       "primaryTitle            0\n",
       "originalTitle           0\n",
       "isAdult                 0\n",
       "startYear         1297184\n",
       "endYear           9506079\n",
       "runtimeMinutes    6801207\n",
       "genres             434288\n",
       "dtype: int64"
      ]
     },
     "execution_count": 20,
     "metadata": {},
     "output_type": "execute_result"
    }
   ],
   "source": [
    "title_basics.isna().sum()"
   ]
  },
  {
   "cell_type": "code",
   "execution_count": 21,
   "id": "8b7045aa",
   "metadata": {
    "hidden": true
   },
   "outputs": [
    {
     "data": {
      "text/plain": [
       "tconst                  0\n",
       "titleType               0\n",
       "primaryTitle            0\n",
       "originalTitle           0\n",
       "isAdult                 0\n",
       "startYear         1297184\n",
       "runtimeMinutes    6801207\n",
       "genres             434288\n",
       "dtype: int64"
      ]
     },
     "execution_count": 21,
     "metadata": {},
     "output_type": "execute_result"
    }
   ],
   "source": [
    "title_basics = title_basics.drop(columns=['endYear'])\n",
    "title_basics.isna().sum()"
   ]
  },
  {
   "cell_type": "code",
   "execution_count": 22,
   "id": "a7fe17c3",
   "metadata": {
    "hidden": true
   },
   "outputs": [
    {
     "data": {
      "text/plain": [
       "tconst                 0\n",
       "titleType              0\n",
       "primaryTitle           0\n",
       "originalTitle          0\n",
       "isAdult                0\n",
       "startYear         159879\n",
       "runtimeMinutes         0\n",
       "genres             75530\n",
       "dtype: int64"
      ]
     },
     "execution_count": 22,
     "metadata": {},
     "output_type": "execute_result"
    }
   ],
   "source": [
    "title_basics.dropna(subset=['runtimeMinutes'], inplace=True)\n",
    "title_basics.isna().sum()"
   ]
  },
  {
   "cell_type": "code",
   "execution_count": 23,
   "id": "4fe1136a",
   "metadata": {
    "hidden": true
   },
   "outputs": [
    {
     "data": {
      "text/plain": [
       "tconst                 0\n",
       "titleType              0\n",
       "primaryTitle           0\n",
       "originalTitle          0\n",
       "isAdult                0\n",
       "startYear         154954\n",
       "runtimeMinutes         0\n",
       "genres                 0\n",
       "dtype: int64"
      ]
     },
     "execution_count": 23,
     "metadata": {},
     "output_type": "execute_result"
    }
   ],
   "source": [
    "title_basics.dropna(subset=['genres'], inplace=True)\n",
    "title_basics.isna().sum()"
   ]
  },
  {
   "cell_type": "markdown",
   "id": "43fdd94b",
   "metadata": {
    "hidden": true
   },
   "source": [
    "### Eliminate movies that include \"Documentary\" in genre"
   ]
  },
  {
   "cell_type": "code",
   "execution_count": 25,
   "id": "a6aedb56",
   "metadata": {
    "hidden": true
   },
   "outputs": [
    {
     "data": {
      "text/html": [
       "<div>\n",
       "<style scoped>\n",
       "    .dataframe tbody tr th:only-of-type {\n",
       "        vertical-align: middle;\n",
       "    }\n",
       "\n",
       "    .dataframe tbody tr th {\n",
       "        vertical-align: top;\n",
       "    }\n",
       "\n",
       "    .dataframe thead th {\n",
       "        text-align: right;\n",
       "    }\n",
       "</style>\n",
       "<table border=\"1\" class=\"dataframe\">\n",
       "  <thead>\n",
       "    <tr style=\"text-align: right;\">\n",
       "      <th></th>\n",
       "      <th>tconst</th>\n",
       "      <th>titleType</th>\n",
       "      <th>primaryTitle</th>\n",
       "      <th>originalTitle</th>\n",
       "      <th>isAdult</th>\n",
       "      <th>startYear</th>\n",
       "      <th>runtimeMinutes</th>\n",
       "      <th>genres</th>\n",
       "    </tr>\n",
       "  </thead>\n",
       "  <tbody>\n",
       "    <tr>\n",
       "      <th>1</th>\n",
       "      <td>tt0000002</td>\n",
       "      <td>short</td>\n",
       "      <td>Le clown et ses chiens</td>\n",
       "      <td>Le clown et ses chiens</td>\n",
       "      <td>0</td>\n",
       "      <td>1892</td>\n",
       "      <td>5</td>\n",
       "      <td>Animation,Short</td>\n",
       "    </tr>\n",
       "    <tr>\n",
       "      <th>2</th>\n",
       "      <td>tt0000003</td>\n",
       "      <td>short</td>\n",
       "      <td>Pauvre Pierrot</td>\n",
       "      <td>Pauvre Pierrot</td>\n",
       "      <td>0</td>\n",
       "      <td>1892</td>\n",
       "      <td>4</td>\n",
       "      <td>Animation,Comedy,Romance</td>\n",
       "    </tr>\n",
       "    <tr>\n",
       "      <th>3</th>\n",
       "      <td>tt0000004</td>\n",
       "      <td>short</td>\n",
       "      <td>Un bon bock</td>\n",
       "      <td>Un bon bock</td>\n",
       "      <td>0</td>\n",
       "      <td>1892</td>\n",
       "      <td>12</td>\n",
       "      <td>Animation,Short</td>\n",
       "    </tr>\n",
       "    <tr>\n",
       "      <th>4</th>\n",
       "      <td>tt0000005</td>\n",
       "      <td>short</td>\n",
       "      <td>Blacksmith Scene</td>\n",
       "      <td>Blacksmith Scene</td>\n",
       "      <td>0</td>\n",
       "      <td>1893</td>\n",
       "      <td>1</td>\n",
       "      <td>Comedy,Short</td>\n",
       "    </tr>\n",
       "    <tr>\n",
       "      <th>5</th>\n",
       "      <td>tt0000006</td>\n",
       "      <td>short</td>\n",
       "      <td>Chinese Opium Den</td>\n",
       "      <td>Chinese Opium Den</td>\n",
       "      <td>0</td>\n",
       "      <td>1894</td>\n",
       "      <td>1</td>\n",
       "      <td>Short</td>\n",
       "    </tr>\n",
       "    <tr>\n",
       "      <th>...</th>\n",
       "      <td>...</td>\n",
       "      <td>...</td>\n",
       "      <td>...</td>\n",
       "      <td>...</td>\n",
       "      <td>...</td>\n",
       "      <td>...</td>\n",
       "      <td>...</td>\n",
       "      <td>...</td>\n",
       "    </tr>\n",
       "    <tr>\n",
       "      <th>9608477</th>\n",
       "      <td>tt9916692</td>\n",
       "      <td>tvMovie</td>\n",
       "      <td>Teatroteka: Czlowiek bez twarzy</td>\n",
       "      <td>Teatroteka: Czlowiek bez twarzy</td>\n",
       "      <td>0</td>\n",
       "      <td>2015</td>\n",
       "      <td>66</td>\n",
       "      <td>Drama</td>\n",
       "    </tr>\n",
       "    <tr>\n",
       "      <th>9608510</th>\n",
       "      <td>tt9916766</td>\n",
       "      <td>tvEpisode</td>\n",
       "      <td>Episode #10.15</td>\n",
       "      <td>Episode #10.15</td>\n",
       "      <td>0</td>\n",
       "      <td>2019</td>\n",
       "      <td>43</td>\n",
       "      <td>Family,Game-Show,Reality-TV</td>\n",
       "    </tr>\n",
       "    <tr>\n",
       "      <th>9608545</th>\n",
       "      <td>tt9916840</td>\n",
       "      <td>tvEpisode</td>\n",
       "      <td>Horrid Henry's Comic Caper</td>\n",
       "      <td>Horrid Henry's Comic Caper</td>\n",
       "      <td>0</td>\n",
       "      <td>2014</td>\n",
       "      <td>11</td>\n",
       "      <td>Adventure,Animation,Comedy</td>\n",
       "    </tr>\n",
       "    <tr>\n",
       "      <th>9608552</th>\n",
       "      <td>tt9916856</td>\n",
       "      <td>short</td>\n",
       "      <td>The Wind</td>\n",
       "      <td>The Wind</td>\n",
       "      <td>0</td>\n",
       "      <td>2015</td>\n",
       "      <td>27</td>\n",
       "      <td>Short</td>\n",
       "    </tr>\n",
       "    <tr>\n",
       "      <th>9608553</th>\n",
       "      <td>tt9916880</td>\n",
       "      <td>tvEpisode</td>\n",
       "      <td>Horrid Henry Knows It All</td>\n",
       "      <td>Horrid Henry Knows It All</td>\n",
       "      <td>0</td>\n",
       "      <td>2014</td>\n",
       "      <td>10</td>\n",
       "      <td>Adventure,Animation,Comedy</td>\n",
       "    </tr>\n",
       "  </tbody>\n",
       "</table>\n",
       "<p>2333955 rows × 8 columns</p>\n",
       "</div>"
      ],
      "text/plain": [
       "            tconst  titleType                     primaryTitle  \\\n",
       "1        tt0000002      short           Le clown et ses chiens   \n",
       "2        tt0000003      short                   Pauvre Pierrot   \n",
       "3        tt0000004      short                      Un bon bock   \n",
       "4        tt0000005      short                 Blacksmith Scene   \n",
       "5        tt0000006      short                Chinese Opium Den   \n",
       "...            ...        ...                              ...   \n",
       "9608477  tt9916692    tvMovie  Teatroteka: Czlowiek bez twarzy   \n",
       "9608510  tt9916766  tvEpisode                   Episode #10.15   \n",
       "9608545  tt9916840  tvEpisode       Horrid Henry's Comic Caper   \n",
       "9608552  tt9916856      short                         The Wind   \n",
       "9608553  tt9916880  tvEpisode        Horrid Henry Knows It All   \n",
       "\n",
       "                           originalTitle isAdult startYear runtimeMinutes  \\\n",
       "1                 Le clown et ses chiens       0      1892              5   \n",
       "2                         Pauvre Pierrot       0      1892              4   \n",
       "3                            Un bon bock       0      1892             12   \n",
       "4                       Blacksmith Scene       0      1893              1   \n",
       "5                      Chinese Opium Den       0      1894              1   \n",
       "...                                  ...     ...       ...            ...   \n",
       "9608477  Teatroteka: Czlowiek bez twarzy       0      2015             66   \n",
       "9608510                   Episode #10.15       0      2019             43   \n",
       "9608545       Horrid Henry's Comic Caper       0      2014             11   \n",
       "9608552                         The Wind       0      2015             27   \n",
       "9608553        Horrid Henry Knows It All       0      2014             10   \n",
       "\n",
       "                              genres  \n",
       "1                    Animation,Short  \n",
       "2           Animation,Comedy,Romance  \n",
       "3                    Animation,Short  \n",
       "4                       Comedy,Short  \n",
       "5                              Short  \n",
       "...                              ...  \n",
       "9608477                        Drama  \n",
       "9608510  Family,Game-Show,Reality-TV  \n",
       "9608545   Adventure,Animation,Comedy  \n",
       "9608552                        Short  \n",
       "9608553   Adventure,Animation,Comedy  \n",
       "\n",
       "[2333955 rows x 8 columns]"
      ]
     },
     "execution_count": 25,
     "metadata": {},
     "output_type": "execute_result"
    }
   ],
   "source": [
    "#Eliminate movies that include \"Documentary\" in genre\n",
    "is_documentary = title_basics['genres'].str.contains('documentary',case=False)\n",
    "title_basics= title_basics[~is_documentary]\n",
    "title_basics"
   ]
  },
  {
   "cell_type": "markdown",
   "id": "a761a05b",
   "metadata": {
    "hidden": true
   },
   "source": [
    "### keep only titleType==Movie"
   ]
  },
  {
   "cell_type": "code",
   "execution_count": 26,
   "id": "118c594f",
   "metadata": {
    "hidden": true
   },
   "outputs": [],
   "source": [
    "#Eliminate movies that include \"short\" in genre\n",
    "is_short = title_basics['titleType'].str.contains('short',case=False)\n",
    "title_basics= title_basics[~is_short]\n",
    "\n",
    "#Eliminate movies that include \"tvEpisode\t\" in genre\n",
    "is_tvEpisode = title_basics['titleType'].str.contains('tvEpisode',case=False)\n",
    "title_basics= title_basics[~is_tvEpisode]\n",
    "\n",
    "#Eliminate movies that include \"tvSeries\" in genre\n",
    "is_tvSeries = title_basics['titleType'].str.contains('tvSeries',case=False)\n",
    "title_basics= title_basics[~is_tvSeries]\n",
    "\n",
    "#Eliminate movies that include \"tvMovie\" in genre\n",
    "is_tvMovie = title_basics['titleType'].str.contains('tvMovie',case=False)\n",
    "title_basics= title_basics[~is_tvMovie]\n",
    "\n",
    "#Eliminate movies that include \"video\" in genre\n",
    "is_video = title_basics['titleType'].str.contains('video',case=False)\n",
    "title_basics= title_basics[~is_video]"
   ]
  },
  {
   "cell_type": "code",
   "execution_count": 27,
   "id": "4babad40",
   "metadata": {
    "hidden": true
   },
   "outputs": [
    {
     "data": {
      "text/html": [
       "<div>\n",
       "<style scoped>\n",
       "    .dataframe tbody tr th:only-of-type {\n",
       "        vertical-align: middle;\n",
       "    }\n",
       "\n",
       "    .dataframe tbody tr th {\n",
       "        vertical-align: top;\n",
       "    }\n",
       "\n",
       "    .dataframe thead th {\n",
       "        text-align: right;\n",
       "    }\n",
       "</style>\n",
       "<table border=\"1\" class=\"dataframe\">\n",
       "  <thead>\n",
       "    <tr style=\"text-align: right;\">\n",
       "      <th></th>\n",
       "      <th>tconst</th>\n",
       "      <th>titleType</th>\n",
       "      <th>primaryTitle</th>\n",
       "      <th>originalTitle</th>\n",
       "      <th>isAdult</th>\n",
       "      <th>startYear</th>\n",
       "      <th>runtimeMinutes</th>\n",
       "      <th>genres</th>\n",
       "    </tr>\n",
       "  </thead>\n",
       "  <tbody>\n",
       "    <tr>\n",
       "      <th>8</th>\n",
       "      <td>tt0000009</td>\n",
       "      <td>movie</td>\n",
       "      <td>Miss Jerry</td>\n",
       "      <td>Miss Jerry</td>\n",
       "      <td>0</td>\n",
       "      <td>1894</td>\n",
       "      <td>45</td>\n",
       "      <td>Romance</td>\n",
       "    </tr>\n",
       "    <tr>\n",
       "      <th>570</th>\n",
       "      <td>tt0000574</td>\n",
       "      <td>movie</td>\n",
       "      <td>The Story of the Kelly Gang</td>\n",
       "      <td>The Story of the Kelly Gang</td>\n",
       "      <td>0</td>\n",
       "      <td>1906</td>\n",
       "      <td>70</td>\n",
       "      <td>Action,Adventure,Biography</td>\n",
       "    </tr>\n",
       "    <tr>\n",
       "      <th>587</th>\n",
       "      <td>tt0000591</td>\n",
       "      <td>movie</td>\n",
       "      <td>The Prodigal Son</td>\n",
       "      <td>L'enfant prodigue</td>\n",
       "      <td>0</td>\n",
       "      <td>1907</td>\n",
       "      <td>90</td>\n",
       "      <td>Drama</td>\n",
       "    </tr>\n",
       "    <tr>\n",
       "      <th>672</th>\n",
       "      <td>tt0000679</td>\n",
       "      <td>movie</td>\n",
       "      <td>The Fairylogue and Radio-Plays</td>\n",
       "      <td>The Fairylogue and Radio-Plays</td>\n",
       "      <td>0</td>\n",
       "      <td>1908</td>\n",
       "      <td>120</td>\n",
       "      <td>Adventure,Fantasy</td>\n",
       "    </tr>\n",
       "    <tr>\n",
       "      <th>930</th>\n",
       "      <td>tt0000941</td>\n",
       "      <td>movie</td>\n",
       "      <td>Locura de amor</td>\n",
       "      <td>Locura de amor</td>\n",
       "      <td>0</td>\n",
       "      <td>1909</td>\n",
       "      <td>45</td>\n",
       "      <td>Drama</td>\n",
       "    </tr>\n",
       "    <tr>\n",
       "      <th>...</th>\n",
       "      <td>...</td>\n",
       "      <td>...</td>\n",
       "      <td>...</td>\n",
       "      <td>...</td>\n",
       "      <td>...</td>\n",
       "      <td>...</td>\n",
       "      <td>...</td>\n",
       "      <td>...</td>\n",
       "    </tr>\n",
       "    <tr>\n",
       "      <th>9608227</th>\n",
       "      <td>tt9916170</td>\n",
       "      <td>movie</td>\n",
       "      <td>The Rehearsal</td>\n",
       "      <td>O Ensaio</td>\n",
       "      <td>0</td>\n",
       "      <td>2019</td>\n",
       "      <td>51</td>\n",
       "      <td>Drama</td>\n",
       "    </tr>\n",
       "    <tr>\n",
       "      <th>9608236</th>\n",
       "      <td>tt9916190</td>\n",
       "      <td>movie</td>\n",
       "      <td>Safeguard</td>\n",
       "      <td>Safeguard</td>\n",
       "      <td>0</td>\n",
       "      <td>2020</td>\n",
       "      <td>95</td>\n",
       "      <td>Action,Adventure,Thriller</td>\n",
       "    </tr>\n",
       "    <tr>\n",
       "      <th>9608275</th>\n",
       "      <td>tt9916270</td>\n",
       "      <td>movie</td>\n",
       "      <td>Il talento del calabrone</td>\n",
       "      <td>Il talento del calabrone</td>\n",
       "      <td>0</td>\n",
       "      <td>2020</td>\n",
       "      <td>84</td>\n",
       "      <td>Thriller</td>\n",
       "    </tr>\n",
       "    <tr>\n",
       "      <th>9608320</th>\n",
       "      <td>tt9916362</td>\n",
       "      <td>movie</td>\n",
       "      <td>Coven</td>\n",
       "      <td>Akelarre</td>\n",
       "      <td>0</td>\n",
       "      <td>2020</td>\n",
       "      <td>92</td>\n",
       "      <td>Drama,History</td>\n",
       "    </tr>\n",
       "    <tr>\n",
       "      <th>9608404</th>\n",
       "      <td>tt9916538</td>\n",
       "      <td>movie</td>\n",
       "      <td>Kuambil Lagi Hatiku</td>\n",
       "      <td>Kuambil Lagi Hatiku</td>\n",
       "      <td>0</td>\n",
       "      <td>2019</td>\n",
       "      <td>123</td>\n",
       "      <td>Drama</td>\n",
       "    </tr>\n",
       "  </tbody>\n",
       "</table>\n",
       "<p>313088 rows × 8 columns</p>\n",
       "</div>"
      ],
      "text/plain": [
       "            tconst titleType                    primaryTitle  \\\n",
       "8        tt0000009     movie                      Miss Jerry   \n",
       "570      tt0000574     movie     The Story of the Kelly Gang   \n",
       "587      tt0000591     movie                The Prodigal Son   \n",
       "672      tt0000679     movie  The Fairylogue and Radio-Plays   \n",
       "930      tt0000941     movie                  Locura de amor   \n",
       "...            ...       ...                             ...   \n",
       "9608227  tt9916170     movie                   The Rehearsal   \n",
       "9608236  tt9916190     movie                       Safeguard   \n",
       "9608275  tt9916270     movie        Il talento del calabrone   \n",
       "9608320  tt9916362     movie                           Coven   \n",
       "9608404  tt9916538     movie             Kuambil Lagi Hatiku   \n",
       "\n",
       "                          originalTitle isAdult startYear runtimeMinutes  \\\n",
       "8                            Miss Jerry       0      1894             45   \n",
       "570         The Story of the Kelly Gang       0      1906             70   \n",
       "587                   L'enfant prodigue       0      1907             90   \n",
       "672      The Fairylogue and Radio-Plays       0      1908            120   \n",
       "930                      Locura de amor       0      1909             45   \n",
       "...                                 ...     ...       ...            ...   \n",
       "9608227                        O Ensaio       0      2019             51   \n",
       "9608236                       Safeguard       0      2020             95   \n",
       "9608275        Il talento del calabrone       0      2020             84   \n",
       "9608320                        Akelarre       0      2020             92   \n",
       "9608404             Kuambil Lagi Hatiku       0      2019            123   \n",
       "\n",
       "                             genres  \n",
       "8                           Romance  \n",
       "570      Action,Adventure,Biography  \n",
       "587                           Drama  \n",
       "672               Adventure,Fantasy  \n",
       "930                           Drama  \n",
       "...                             ...  \n",
       "9608227                       Drama  \n",
       "9608236   Action,Adventure,Thriller  \n",
       "9608275                    Thriller  \n",
       "9608320               Drama,History  \n",
       "9608404                       Drama  \n",
       "\n",
       "[313088 rows x 8 columns]"
      ]
     },
     "execution_count": 27,
     "metadata": {},
     "output_type": "execute_result"
    }
   ],
   "source": [
    "title_basics"
   ]
  },
  {
   "cell_type": "markdown",
   "id": "80addf89",
   "metadata": {
    "hidden": true
   },
   "source": [
    "### keep startYear 2000-2022"
   ]
  },
  {
   "cell_type": "code",
   "execution_count": 28,
   "id": "225498e5",
   "metadata": {
    "hidden": true
   },
   "outputs": [
    {
     "name": "stdout",
     "output_type": "stream",
     "text": [
      "<class 'pandas.core.frame.DataFrame'>\n",
      "Int64Index: 313088 entries, 8 to 9608404\n",
      "Data columns (total 8 columns):\n",
      " #   Column          Non-Null Count   Dtype  \n",
      "---  ------          --------------   -----  \n",
      " 0   tconst          313088 non-null  object \n",
      " 1   titleType       313088 non-null  object \n",
      " 2   primaryTitle    313088 non-null  object \n",
      " 3   originalTitle   313088 non-null  object \n",
      " 4   isAdult         313088 non-null  object \n",
      " 5   startYear       308289 non-null  float64\n",
      " 6   runtimeMinutes  313088 non-null  object \n",
      " 7   genres          313088 non-null  object \n",
      "dtypes: float64(1), object(7)\n",
      "memory usage: 21.5+ MB\n"
     ]
    }
   ],
   "source": [
    "title_basics['startYear'] = title_basics['startYear'].astype(float)\n",
    "title_basics.info()"
   ]
  },
  {
   "cell_type": "code",
   "execution_count": 29,
   "id": "3ac140b9",
   "metadata": {
    "hidden": true
   },
   "outputs": [
    {
     "data": {
      "text/plain": [
       "8          False\n",
       "570        False\n",
       "587        False\n",
       "672        False\n",
       "930        False\n",
       "           ...  \n",
       "9608227     True\n",
       "9608236     True\n",
       "9608275     True\n",
       "9608320     True\n",
       "9608404     True\n",
       "Name: startYear, Length: 313088, dtype: bool"
      ]
     },
     "execution_count": 29,
     "metadata": {},
     "output_type": "execute_result"
    }
   ],
   "source": [
    "keepers =title_basics['startYear'] >= 2000\n",
    "keepers"
   ]
  },
  {
   "cell_type": "code",
   "execution_count": 30,
   "id": "e4f1f78e",
   "metadata": {
    "hidden": true
   },
   "outputs": [
    {
     "data": {
      "text/html": [
       "<div>\n",
       "<style scoped>\n",
       "    .dataframe tbody tr th:only-of-type {\n",
       "        vertical-align: middle;\n",
       "    }\n",
       "\n",
       "    .dataframe tbody tr th {\n",
       "        vertical-align: top;\n",
       "    }\n",
       "\n",
       "    .dataframe thead th {\n",
       "        text-align: right;\n",
       "    }\n",
       "</style>\n",
       "<table border=\"1\" class=\"dataframe\">\n",
       "  <thead>\n",
       "    <tr style=\"text-align: right;\">\n",
       "      <th></th>\n",
       "      <th>tconst</th>\n",
       "      <th>titleType</th>\n",
       "      <th>primaryTitle</th>\n",
       "      <th>originalTitle</th>\n",
       "      <th>isAdult</th>\n",
       "      <th>startYear</th>\n",
       "      <th>runtimeMinutes</th>\n",
       "      <th>genres</th>\n",
       "    </tr>\n",
       "  </thead>\n",
       "  <tbody>\n",
       "    <tr>\n",
       "      <th>34803</th>\n",
       "      <td>tt0035423</td>\n",
       "      <td>movie</td>\n",
       "      <td>Kate &amp; Leopold</td>\n",
       "      <td>Kate &amp; Leopold</td>\n",
       "      <td>0</td>\n",
       "      <td>2001.0</td>\n",
       "      <td>118</td>\n",
       "      <td>Comedy,Fantasy,Romance</td>\n",
       "    </tr>\n",
       "    <tr>\n",
       "      <th>61116</th>\n",
       "      <td>tt0062336</td>\n",
       "      <td>movie</td>\n",
       "      <td>The Tango of the Widower and Its Distorting Mi...</td>\n",
       "      <td>El tango del viudo y su espejo deformante</td>\n",
       "      <td>0</td>\n",
       "      <td>2020.0</td>\n",
       "      <td>70</td>\n",
       "      <td>Drama</td>\n",
       "    </tr>\n",
       "    <tr>\n",
       "      <th>67669</th>\n",
       "      <td>tt0069049</td>\n",
       "      <td>movie</td>\n",
       "      <td>The Other Side of the Wind</td>\n",
       "      <td>The Other Side of the Wind</td>\n",
       "      <td>0</td>\n",
       "      <td>2018.0</td>\n",
       "      <td>122</td>\n",
       "      <td>Drama</td>\n",
       "    </tr>\n",
       "    <tr>\n",
       "      <th>77964</th>\n",
       "      <td>tt0079644</td>\n",
       "      <td>movie</td>\n",
       "      <td>November 1828</td>\n",
       "      <td>November 1828</td>\n",
       "      <td>0</td>\n",
       "      <td>2001.0</td>\n",
       "      <td>140</td>\n",
       "      <td>Drama,War</td>\n",
       "    </tr>\n",
       "    <tr>\n",
       "      <th>86801</th>\n",
       "      <td>tt0088751</td>\n",
       "      <td>movie</td>\n",
       "      <td>The Naked Monster</td>\n",
       "      <td>The Naked Monster</td>\n",
       "      <td>0</td>\n",
       "      <td>2005.0</td>\n",
       "      <td>100</td>\n",
       "      <td>Comedy,Horror,Sci-Fi</td>\n",
       "    </tr>\n",
       "    <tr>\n",
       "      <th>...</th>\n",
       "      <td>...</td>\n",
       "      <td>...</td>\n",
       "      <td>...</td>\n",
       "      <td>...</td>\n",
       "      <td>...</td>\n",
       "      <td>...</td>\n",
       "      <td>...</td>\n",
       "      <td>...</td>\n",
       "    </tr>\n",
       "    <tr>\n",
       "      <th>9608227</th>\n",
       "      <td>tt9916170</td>\n",
       "      <td>movie</td>\n",
       "      <td>The Rehearsal</td>\n",
       "      <td>O Ensaio</td>\n",
       "      <td>0</td>\n",
       "      <td>2019.0</td>\n",
       "      <td>51</td>\n",
       "      <td>Drama</td>\n",
       "    </tr>\n",
       "    <tr>\n",
       "      <th>9608236</th>\n",
       "      <td>tt9916190</td>\n",
       "      <td>movie</td>\n",
       "      <td>Safeguard</td>\n",
       "      <td>Safeguard</td>\n",
       "      <td>0</td>\n",
       "      <td>2020.0</td>\n",
       "      <td>95</td>\n",
       "      <td>Action,Adventure,Thriller</td>\n",
       "    </tr>\n",
       "    <tr>\n",
       "      <th>9608275</th>\n",
       "      <td>tt9916270</td>\n",
       "      <td>movie</td>\n",
       "      <td>Il talento del calabrone</td>\n",
       "      <td>Il talento del calabrone</td>\n",
       "      <td>0</td>\n",
       "      <td>2020.0</td>\n",
       "      <td>84</td>\n",
       "      <td>Thriller</td>\n",
       "    </tr>\n",
       "    <tr>\n",
       "      <th>9608320</th>\n",
       "      <td>tt9916362</td>\n",
       "      <td>movie</td>\n",
       "      <td>Coven</td>\n",
       "      <td>Akelarre</td>\n",
       "      <td>0</td>\n",
       "      <td>2020.0</td>\n",
       "      <td>92</td>\n",
       "      <td>Drama,History</td>\n",
       "    </tr>\n",
       "    <tr>\n",
       "      <th>9608404</th>\n",
       "      <td>tt9916538</td>\n",
       "      <td>movie</td>\n",
       "      <td>Kuambil Lagi Hatiku</td>\n",
       "      <td>Kuambil Lagi Hatiku</td>\n",
       "      <td>0</td>\n",
       "      <td>2019.0</td>\n",
       "      <td>123</td>\n",
       "      <td>Drama</td>\n",
       "    </tr>\n",
       "  </tbody>\n",
       "</table>\n",
       "<p>166984 rows × 8 columns</p>\n",
       "</div>"
      ],
      "text/plain": [
       "            tconst titleType  \\\n",
       "34803    tt0035423     movie   \n",
       "61116    tt0062336     movie   \n",
       "67669    tt0069049     movie   \n",
       "77964    tt0079644     movie   \n",
       "86801    tt0088751     movie   \n",
       "...            ...       ...   \n",
       "9608227  tt9916170     movie   \n",
       "9608236  tt9916190     movie   \n",
       "9608275  tt9916270     movie   \n",
       "9608320  tt9916362     movie   \n",
       "9608404  tt9916538     movie   \n",
       "\n",
       "                                              primaryTitle  \\\n",
       "34803                                       Kate & Leopold   \n",
       "61116    The Tango of the Widower and Its Distorting Mi...   \n",
       "67669                           The Other Side of the Wind   \n",
       "77964                                        November 1828   \n",
       "86801                                    The Naked Monster   \n",
       "...                                                    ...   \n",
       "9608227                                      The Rehearsal   \n",
       "9608236                                          Safeguard   \n",
       "9608275                           Il talento del calabrone   \n",
       "9608320                                              Coven   \n",
       "9608404                                Kuambil Lagi Hatiku   \n",
       "\n",
       "                                     originalTitle isAdult  startYear  \\\n",
       "34803                               Kate & Leopold       0     2001.0   \n",
       "61116    El tango del viudo y su espejo deformante       0     2020.0   \n",
       "67669                   The Other Side of the Wind       0     2018.0   \n",
       "77964                                November 1828       0     2001.0   \n",
       "86801                            The Naked Monster       0     2005.0   \n",
       "...                                            ...     ...        ...   \n",
       "9608227                                   O Ensaio       0     2019.0   \n",
       "9608236                                  Safeguard       0     2020.0   \n",
       "9608275                   Il talento del calabrone       0     2020.0   \n",
       "9608320                                   Akelarre       0     2020.0   \n",
       "9608404                        Kuambil Lagi Hatiku       0     2019.0   \n",
       "\n",
       "        runtimeMinutes                     genres  \n",
       "34803              118     Comedy,Fantasy,Romance  \n",
       "61116               70                      Drama  \n",
       "67669              122                      Drama  \n",
       "77964              140                  Drama,War  \n",
       "86801              100       Comedy,Horror,Sci-Fi  \n",
       "...                ...                        ...  \n",
       "9608227             51                      Drama  \n",
       "9608236             95  Action,Adventure,Thriller  \n",
       "9608275             84                   Thriller  \n",
       "9608320             92              Drama,History  \n",
       "9608404            123                      Drama  \n",
       "\n",
       "[166984 rows x 8 columns]"
      ]
     },
     "execution_count": 30,
     "metadata": {},
     "output_type": "execute_result"
    }
   ],
   "source": [
    "title_basics = title_basics[keepers]\n",
    "title_basics"
   ]
  },
  {
   "cell_type": "code",
   "execution_count": 32,
   "id": "a629f156",
   "metadata": {
    "hidden": true
   },
   "outputs": [],
   "source": [
    "## Save current dataframe to file.\n",
    "title_basics.to_csv(\"title_basics.csv.gz\",compression='gzip',index=False)"
   ]
  },
  {
   "cell_type": "markdown",
   "id": "8af21fad",
   "metadata": {},
   "source": [
    "# Title Ratings"
   ]
  },
  {
   "cell_type": "code",
   "execution_count": 33,
   "id": "fa1af471",
   "metadata": {},
   "outputs": [],
   "source": [
    "basics_url3=\"https://datasets.imdbws.com/title.ratings.tsv.gz\"\n",
    "title_ratings = pd.read_csv(basics_url3, sep='\\t', low_memory=False)"
   ]
  },
  {
   "cell_type": "code",
   "execution_count": 34,
   "id": "72d31e08",
   "metadata": {},
   "outputs": [
    {
     "data": {
      "text/html": [
       "<div>\n",
       "<style scoped>\n",
       "    .dataframe tbody tr th:only-of-type {\n",
       "        vertical-align: middle;\n",
       "    }\n",
       "\n",
       "    .dataframe tbody tr th {\n",
       "        vertical-align: top;\n",
       "    }\n",
       "\n",
       "    .dataframe thead th {\n",
       "        text-align: right;\n",
       "    }\n",
       "</style>\n",
       "<table border=\"1\" class=\"dataframe\">\n",
       "  <thead>\n",
       "    <tr style=\"text-align: right;\">\n",
       "      <th></th>\n",
       "      <th>tconst</th>\n",
       "      <th>averageRating</th>\n",
       "      <th>numVotes</th>\n",
       "    </tr>\n",
       "  </thead>\n",
       "  <tbody>\n",
       "    <tr>\n",
       "      <th>0</th>\n",
       "      <td>tt0000001</td>\n",
       "      <td>5.7</td>\n",
       "      <td>1950</td>\n",
       "    </tr>\n",
       "    <tr>\n",
       "      <th>1</th>\n",
       "      <td>tt0000002</td>\n",
       "      <td>5.8</td>\n",
       "      <td>264</td>\n",
       "    </tr>\n",
       "    <tr>\n",
       "      <th>2</th>\n",
       "      <td>tt0000003</td>\n",
       "      <td>6.5</td>\n",
       "      <td>1782</td>\n",
       "    </tr>\n",
       "    <tr>\n",
       "      <th>3</th>\n",
       "      <td>tt0000004</td>\n",
       "      <td>5.6</td>\n",
       "      <td>179</td>\n",
       "    </tr>\n",
       "    <tr>\n",
       "      <th>4</th>\n",
       "      <td>tt0000005</td>\n",
       "      <td>6.2</td>\n",
       "      <td>2583</td>\n",
       "    </tr>\n",
       "  </tbody>\n",
       "</table>\n",
       "</div>"
      ],
      "text/plain": [
       "      tconst  averageRating  numVotes\n",
       "0  tt0000001            5.7      1950\n",
       "1  tt0000002            5.8       264\n",
       "2  tt0000003            6.5      1782\n",
       "3  tt0000004            5.6       179\n",
       "4  tt0000005            6.2      2583"
      ]
     },
     "execution_count": 34,
     "metadata": {},
     "output_type": "execute_result"
    }
   ],
   "source": [
    "title_ratings.head()"
   ]
  },
  {
   "cell_type": "markdown",
   "id": "3fc028b9",
   "metadata": {},
   "source": [
    "title_ratings.info()"
   ]
  },
  {
   "cell_type": "markdown",
   "id": "385813ad",
   "metadata": {},
   "source": [
    "Replace \"\\N\" with np.nan"
   ]
  },
  {
   "cell_type": "code",
   "execution_count": 36,
   "id": "fd15b282",
   "metadata": {},
   "outputs": [
    {
     "data": {
      "text/html": [
       "<div>\n",
       "<style scoped>\n",
       "    .dataframe tbody tr th:only-of-type {\n",
       "        vertical-align: middle;\n",
       "    }\n",
       "\n",
       "    .dataframe tbody tr th {\n",
       "        vertical-align: top;\n",
       "    }\n",
       "\n",
       "    .dataframe thead th {\n",
       "        text-align: right;\n",
       "    }\n",
       "</style>\n",
       "<table border=\"1\" class=\"dataframe\">\n",
       "  <thead>\n",
       "    <tr style=\"text-align: right;\">\n",
       "      <th></th>\n",
       "      <th>tconst</th>\n",
       "      <th>averageRating</th>\n",
       "      <th>numVotes</th>\n",
       "    </tr>\n",
       "  </thead>\n",
       "  <tbody>\n",
       "    <tr>\n",
       "      <th>0</th>\n",
       "      <td>tt0000001</td>\n",
       "      <td>5.7</td>\n",
       "      <td>1950</td>\n",
       "    </tr>\n",
       "    <tr>\n",
       "      <th>1</th>\n",
       "      <td>tt0000002</td>\n",
       "      <td>5.8</td>\n",
       "      <td>264</td>\n",
       "    </tr>\n",
       "    <tr>\n",
       "      <th>2</th>\n",
       "      <td>tt0000003</td>\n",
       "      <td>6.5</td>\n",
       "      <td>1782</td>\n",
       "    </tr>\n",
       "    <tr>\n",
       "      <th>3</th>\n",
       "      <td>tt0000004</td>\n",
       "      <td>5.6</td>\n",
       "      <td>179</td>\n",
       "    </tr>\n",
       "    <tr>\n",
       "      <th>4</th>\n",
       "      <td>tt0000005</td>\n",
       "      <td>6.2</td>\n",
       "      <td>2583</td>\n",
       "    </tr>\n",
       "    <tr>\n",
       "      <th>...</th>\n",
       "      <td>...</td>\n",
       "      <td>...</td>\n",
       "      <td>...</td>\n",
       "    </tr>\n",
       "    <tr>\n",
       "      <th>1278824</th>\n",
       "      <td>tt9916730</td>\n",
       "      <td>8.1</td>\n",
       "      <td>9</td>\n",
       "    </tr>\n",
       "    <tr>\n",
       "      <th>1278825</th>\n",
       "      <td>tt9916766</td>\n",
       "      <td>7.0</td>\n",
       "      <td>21</td>\n",
       "    </tr>\n",
       "    <tr>\n",
       "      <th>1278826</th>\n",
       "      <td>tt9916778</td>\n",
       "      <td>7.2</td>\n",
       "      <td>36</td>\n",
       "    </tr>\n",
       "    <tr>\n",
       "      <th>1278827</th>\n",
       "      <td>tt9916840</td>\n",
       "      <td>8.8</td>\n",
       "      <td>6</td>\n",
       "    </tr>\n",
       "    <tr>\n",
       "      <th>1278828</th>\n",
       "      <td>tt9916880</td>\n",
       "      <td>8.2</td>\n",
       "      <td>6</td>\n",
       "    </tr>\n",
       "  </tbody>\n",
       "</table>\n",
       "<p>1278829 rows × 3 columns</p>\n",
       "</div>"
      ],
      "text/plain": [
       "            tconst  averageRating  numVotes\n",
       "0        tt0000001            5.7      1950\n",
       "1        tt0000002            5.8       264\n",
       "2        tt0000003            6.5      1782\n",
       "3        tt0000004            5.6       179\n",
       "4        tt0000005            6.2      2583\n",
       "...            ...            ...       ...\n",
       "1278824  tt9916730            8.1         9\n",
       "1278825  tt9916766            7.0        21\n",
       "1278826  tt9916778            7.2        36\n",
       "1278827  tt9916840            8.8         6\n",
       "1278828  tt9916880            8.2         6\n",
       "\n",
       "[1278829 rows x 3 columns]"
      ]
     },
     "execution_count": 36,
     "metadata": {},
     "output_type": "execute_result"
    }
   ],
   "source": [
    "title_ratings.replace({'\\\\N':np.nan}, inplace=True)\n",
    "title_ratings"
   ]
  },
  {
   "cell_type": "code",
   "execution_count": 37,
   "id": "c321e06d",
   "metadata": {},
   "outputs": [
    {
     "data": {
      "text/plain": [
       "tconst           0\n",
       "averageRating    0\n",
       "numVotes         0\n",
       "dtype: int64"
      ]
     },
     "execution_count": 37,
     "metadata": {},
     "output_type": "execute_result"
    }
   ],
   "source": [
    "title_ratings.isna().sum()"
   ]
  },
  {
   "cell_type": "code",
   "execution_count": 38,
   "id": "e1fba26d",
   "metadata": {},
   "outputs": [
    {
     "data": {
      "text/plain": [
       "0          False\n",
       "1          False\n",
       "2          False\n",
       "3          False\n",
       "4          False\n",
       "           ...  \n",
       "9608549    False\n",
       "9608550    False\n",
       "9608551    False\n",
       "9608552    False\n",
       "9608553    False\n",
       "Name: tconst, Length: 9608554, dtype: bool"
      ]
     },
     "execution_count": 38,
     "metadata": {},
     "output_type": "execute_result"
    }
   ],
   "source": [
    "us_movies"
   ]
  },
  {
   "cell_type": "code",
   "execution_count": 40,
   "id": "ede4976c",
   "metadata": {},
   "outputs": [
    {
     "data": {
      "text/html": [
       "<div>\n",
       "<style scoped>\n",
       "    .dataframe tbody tr th:only-of-type {\n",
       "        vertical-align: middle;\n",
       "    }\n",
       "\n",
       "    .dataframe tbody tr th {\n",
       "        vertical-align: top;\n",
       "    }\n",
       "\n",
       "    .dataframe thead th {\n",
       "        text-align: right;\n",
       "    }\n",
       "</style>\n",
       "<table border=\"1\" class=\"dataframe\">\n",
       "  <thead>\n",
       "    <tr style=\"text-align: right;\">\n",
       "      <th></th>\n",
       "      <th>tconst</th>\n",
       "      <th>averageRating</th>\n",
       "      <th>numVotes</th>\n",
       "    </tr>\n",
       "  </thead>\n",
       "  <tbody>\n",
       "    <tr>\n",
       "      <th>0</th>\n",
       "      <td>tt0000001</td>\n",
       "      <td>5.7</td>\n",
       "      <td>1950</td>\n",
       "    </tr>\n",
       "    <tr>\n",
       "      <th>1</th>\n",
       "      <td>tt0000002</td>\n",
       "      <td>5.8</td>\n",
       "      <td>264</td>\n",
       "    </tr>\n",
       "    <tr>\n",
       "      <th>2</th>\n",
       "      <td>tt0000003</td>\n",
       "      <td>6.5</td>\n",
       "      <td>1782</td>\n",
       "    </tr>\n",
       "    <tr>\n",
       "      <th>3</th>\n",
       "      <td>tt0000004</td>\n",
       "      <td>5.6</td>\n",
       "      <td>179</td>\n",
       "    </tr>\n",
       "    <tr>\n",
       "      <th>4</th>\n",
       "      <td>tt0000005</td>\n",
       "      <td>6.2</td>\n",
       "      <td>2583</td>\n",
       "    </tr>\n",
       "  </tbody>\n",
       "</table>\n",
       "</div>"
      ],
      "text/plain": [
       "      tconst  averageRating  numVotes\n",
       "0  tt0000001            5.7      1950\n",
       "1  tt0000002            5.8       264\n",
       "2  tt0000003            6.5      1782\n",
       "3  tt0000004            5.6       179\n",
       "4  tt0000005            6.2      2583"
      ]
     },
     "execution_count": 40,
     "metadata": {},
     "output_type": "execute_result"
    }
   ],
   "source": [
    "title_ratings.head()"
   ]
  },
  {
   "cell_type": "code",
   "execution_count": 41,
   "id": "da5baf52",
   "metadata": {},
   "outputs": [],
   "source": [
    "## Save current dataframe to file.\n",
    "title_ratings.to_csv(\"title_ratings.csv.gz\",compression='gzip',index=False)"
   ]
  },
  {
   "cell_type": "code",
   "execution_count": 42,
   "id": "fef0f1da",
   "metadata": {},
   "outputs": [
    {
     "data": {
      "text/html": [
       "<div>\n",
       "<style scoped>\n",
       "    .dataframe tbody tr th:only-of-type {\n",
       "        vertical-align: middle;\n",
       "    }\n",
       "\n",
       "    .dataframe tbody tr th {\n",
       "        vertical-align: top;\n",
       "    }\n",
       "\n",
       "    .dataframe thead th {\n",
       "        text-align: right;\n",
       "    }\n",
       "</style>\n",
       "<table border=\"1\" class=\"dataframe\">\n",
       "  <thead>\n",
       "    <tr style=\"text-align: right;\">\n",
       "      <th></th>\n",
       "      <th>tconst</th>\n",
       "      <th>averageRating</th>\n",
       "      <th>numVotes</th>\n",
       "    </tr>\n",
       "  </thead>\n",
       "  <tbody>\n",
       "    <tr>\n",
       "      <th>0</th>\n",
       "      <td>tt0000001</td>\n",
       "      <td>5.7</td>\n",
       "      <td>1950</td>\n",
       "    </tr>\n",
       "    <tr>\n",
       "      <th>1</th>\n",
       "      <td>tt0000002</td>\n",
       "      <td>5.8</td>\n",
       "      <td>264</td>\n",
       "    </tr>\n",
       "    <tr>\n",
       "      <th>2</th>\n",
       "      <td>tt0000003</td>\n",
       "      <td>6.5</td>\n",
       "      <td>1782</td>\n",
       "    </tr>\n",
       "    <tr>\n",
       "      <th>3</th>\n",
       "      <td>tt0000004</td>\n",
       "      <td>5.6</td>\n",
       "      <td>179</td>\n",
       "    </tr>\n",
       "    <tr>\n",
       "      <th>4</th>\n",
       "      <td>tt0000005</td>\n",
       "      <td>6.2</td>\n",
       "      <td>2583</td>\n",
       "    </tr>\n",
       "  </tbody>\n",
       "</table>\n",
       "</div>"
      ],
      "text/plain": [
       "      tconst  averageRating  numVotes\n",
       "0  tt0000001            5.7      1950\n",
       "1  tt0000002            5.8       264\n",
       "2  tt0000003            6.5      1782\n",
       "3  tt0000004            5.6       179\n",
       "4  tt0000005            6.2      2583"
      ]
     },
     "execution_count": 42,
     "metadata": {},
     "output_type": "execute_result"
    }
   ],
   "source": [
    "title_ratings = pd.read_csv(\"title_ratings.csv.gz\", low_memory = False)\n",
    "title_ratings.head()"
   ]
  },
  {
   "cell_type": "code",
   "execution_count": null,
   "id": "b36a7757",
   "metadata": {},
   "outputs": [],
   "source": []
  }
 ],
 "metadata": {
  "kernelspec": {
   "display_name": "Python (dojo-env)",
   "language": "python",
   "name": "dojo-env"
  },
  "language_info": {
   "codemirror_mode": {
    "name": "ipython",
    "version": 3
   },
   "file_extension": ".py",
   "mimetype": "text/x-python",
   "name": "python",
   "nbconvert_exporter": "python",
   "pygments_lexer": "ipython3",
   "version": "3.9.15"
  },
  "toc": {
   "base_numbering": 1,
   "nav_menu": {},
   "number_sections": false,
   "sideBar": true,
   "skip_h1_title": false,
   "title_cell": "Table of Contents",
   "title_sidebar": "Contents",
   "toc_cell": false,
   "toc_position": {
    "height": "calc(100% - 180px)",
    "left": "10px",
    "top": "150px",
    "width": "299.549px"
   },
   "toc_section_display": true,
   "toc_window_display": false
  }
 },
 "nbformat": 4,
 "nbformat_minor": 5
}
